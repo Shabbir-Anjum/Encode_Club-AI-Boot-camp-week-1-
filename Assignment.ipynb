{
  "cells": [
    {
      "cell_type": "markdown",
      "metadata": {
        "id": "view-in-github",
        "colab_type": "text"
      },
      "source": [
        "<a href=\"https://colab.research.google.com/github/Shabbir-Anjum/Encode_Club-AI-Boot-camp-week-1-/blob/main/Assignment.ipynb\" target=\"_parent\"><img src=\"https://colab.research.google.com/assets/colab-badge.svg\" alt=\"Open In Colab\"/></a>"
      ]
    },
    {
      "cell_type": "code",
      "execution_count": null,
      "metadata": {
        "collapsed": true,
        "id": "i5_KdNpCXFFg"
      },
      "outputs": [],
      "source": [
        "!pip install openai"
      ]
    },
    {
      "cell_type": "markdown",
      "metadata": {
        "id": "fmiGe6j4y34t"
      },
      "source": []
    },
    {
      "cell_type": "code",
      "execution_count": null,
      "metadata": {
        "id": "eWtrWSUPy4a1"
      },
      "outputs": [],
      "source": [
        "import openai\n",
        "from google.colab import userdata\n",
        "\n",
        "# prompted API key securely\n",
        "openai.api_key = userdata.get('OPENAI_API_KEY')\n",
        "\n",
        "# chef's personality message\n",
        "system_message = \"\"\"\n",
        "You are a friendly Pakistani chef named Shabbir with 30 years of experience in traditional Pakistani cuisine. You specialize in authentic dishes from various regions of Pakistan. Your responses should reflect your expertise, warmth, and passion for Pakistani food. Please respond to queries in the following manner:\n",
        "\n",
        "1. For ingredient-based queries: Suggest only dish names that can be made with the given ingredients, without providing full recipes.\n",
        "2. For recipe requests: Provide a detailed recipe for the requested dish, including ingredients, measurements, and step-by-step instructions.\n",
        "3. For recipe critiques: Offer constructive feedback on the recipe and suggest improvements while maintaining a respectful tone.\n",
        "\n",
        "If a query doesn't fit these categories, politely guide the user to ask about ingredients, request a recipe, or present a recipe for critique.\n",
        "\"\"\"\n",
        "\n",
        "def chat_with_chef(user_input):\n",
        "    messages = [\n",
        "        {\"role\": \"system\", \"content\": system_message},\n",
        "        {\"role\": \"user\", \"content\": user_input}\n",
        "    ]\n",
        "\n",
        "    response = openai.ChatCompletion.create(\n",
        "        model=\"gpt-3.5-turbo\",\n",
        "        messages=messages,\n",
        "        max_tokens=500,\n",
        "        n=1,\n",
        "        stop=None,\n",
        "        temperature=0.7,\n",
        "    )\n",
        "\n",
        "    return response.choices[0].message['content'].strip()\n",
        "\n",
        "# Function to handle user input and display chef's response\n",
        "def interact_with_chef():\n",
        "    user_input = input(\"What would you like to know? \")\n",
        "    response = chat_with_chef(user_input)\n",
        "    print(\"\\nChef Shabbir says:\")\n",
        "    print(response)\n",
        "\n",
        "# Main interaction loop\n",
        "print(\"Welcome to Chef shabbir Pakistani Kitchen!\")\n",
        "print(\"You can ask about dishes based on ingredients, request recipes, or ask for recipe critiques.\")\n",
        "print(\"Type 'quit' to exit.\")\n",
        "\n",
        "while True:\n",
        "    interact_with_chef()\n",
        "    if input(\"\\nContinue? (yes/no): \").lower() != 'yes':\n",
        "        print(\"Thank you for visiting Chef Shabbir kitchen. Allah Hafiz!\")\n",
        "        break\n"
      ]
    }
  ],
  "metadata": {
    "colab": {
      "provenance": [],
      "authorship_tag": "ABX9TyMJy/UOYFa5gXzY0+IhidIU",
      "include_colab_link": true
    },
    "kernelspec": {
      "display_name": "Python 3",
      "name": "python3"
    },
    "language_info": {
      "name": "python"
    }
  },
  "nbformat": 4,
  "nbformat_minor": 0
}